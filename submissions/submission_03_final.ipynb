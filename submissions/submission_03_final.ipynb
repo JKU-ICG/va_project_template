{
 "cells": [
  {
   "cell_type": "markdown",
   "id": "412fff68-e520-4a84-a3cd-3d276d5b2beb",
   "metadata": {},
   "source": [
    "# Submission 3 - Final"
   ]
  },
  {
   "cell_type": "markdown",
   "id": "cdb55844-67b1-47a2-8945-76eb91bd1bf1",
   "metadata": {},
   "source": [
    "**Instructions**\n",
    "- Fill out the 'Basic Information','Complex Hypotheses - Findings / Insights', 'Black vs White Hat Visualization' sections (replace the TODOs with your information)\n",
    "  - If your visualization is interactive, create a short video that shows the interactivity (max. 3 min).\n",
    "- Export the Jupyter notebook as a HTML file and save it in this repository.\n",
    "  - Go to 'File' -> 'Save and Export Notebook As..' -> 'HTML'.\n",
    "  - Save it locally in your project folder. You can leave the name as it is.\n",
    "  - If you have a video, then add it to the project folder.\n",
    "  - Push your local changes to the GitHub repository.\n",
    "- Make sure all your files are up-to-date (pushed) in the Github repository.\n",
    "  - Check if all Jupyter notebooks are executeable, theses will be the backup if there were problems with the HTML file submissions.\n",
    "  - We will collect the protect via GitHub Classroom."
   ]
  },
  {
   "cell_type": "markdown",
   "id": "8aa83fea-80cf-4296-9765-410daf7c296d",
   "metadata": {},
   "source": [
    "---\n",
    "## Basic Information"
   ]
  },
  {
   "cell_type": "markdown",
   "id": "99b65e2d-2bee-4e12-ac82-8b31b972d850",
   "metadata": {},
   "source": [
    "**Team Name:** TODO"
   ]
  },
  {
   "cell_type": "markdown",
   "id": "230d9ba1-6ba9-4708-b8d8-39d9502fab44",
   "metadata": {},
   "source": [
    "**Team Members:**\n",
    "- TODO\n",
    "- TODO\n",
    "- TODO\n",
    "- TODO"
   ]
  },
  {
   "cell_type": "markdown",
   "id": "ec9668fc-28d6-4adf-ae4d-aafb4781f936",
   "metadata": {},
   "source": [
    "**Dataset Description:**  \n",
    "(max. 75 words)"
   ]
  },
  {
   "cell_type": "markdown",
   "id": "4bbce0ac-0a1e-455e-bcd3-5a258cb033ec",
   "metadata": {},
   "source": [
    "TODO"
   ]
  },
  {
   "cell_type": "markdown",
   "id": "04352fd2-6482-423f-8def-6f713c65c597",
   "metadata": {},
   "source": [
    "---\n",
    "## Complex Hypotheses - Findings / Insights"
   ]
  },
  {
   "cell_type": "markdown",
   "id": "d6a05ed7-99ea-4d5a-8687-215d14e5e844",
   "metadata": {},
   "source": [
    "**Instructions:**\n",
    "- Add your visualizations (**max. 4**) here\n",
    "  - The visualizations should show the findings / insights\n",
    "- Add the descriptions for all your findings / insights (**max. 150 words**)\n",
    "  - The description should also relate to the visualizations above."
   ]
  },
  {
   "cell_type": "markdown",
   "id": "2b170d32-4ad8-479c-aae8-35b9b816db82",
   "metadata": {
    "tags": []
   },
   "source": [
    "### Visualizations"
   ]
  },
  {
   "cell_type": "markdown",
   "id": "ef118cbe-a9a6-40b6-81a5-68907331a669",
   "metadata": {},
   "source": [
    "TODO"
   ]
  },
  {
   "cell_type": "markdown",
   "id": "cb7a2861-c731-4858-8ca9-4fca8e5190ae",
   "metadata": {},
   "source": [
    "### Description"
   ]
  },
  {
   "cell_type": "markdown",
   "id": "45801f81-8025-4af6-b318-836c50d56edd",
   "metadata": {},
   "source": [
    "TODO"
   ]
  },
  {
   "cell_type": "markdown",
   "id": "1ac345b4-3a8e-4061-964f-d8348ec6bc00",
   "metadata": {},
   "source": [
    "---\n",
    "## Black vs White Hat Visualization"
   ]
  },
  {
   "cell_type": "markdown",
   "id": "09a3b8b9-b043-4400-b94d-d37f66f2934e",
   "metadata": {
    "tags": []
   },
   "source": [
    "### Black Hat Visualization"
   ]
  },
  {
   "cell_type": "markdown",
   "id": "8a169998-4b2f-4da8-9c18-cc95e72a6cc3",
   "metadata": {},
   "source": [
    "**Instructions:**\n",
    "- Add your black hat visualization\n",
    "- Add a description explaining your motivation and design process in producing this visualization (**max. 150 words**)"
   ]
  },
  {
   "cell_type": "markdown",
   "id": "1cc4d29b-d209-49cd-bc9d-24c0437755ee",
   "metadata": {},
   "source": [
    "#### Visualization"
   ]
  },
  {
   "cell_type": "markdown",
   "id": "ccab27dc-69e0-4cc0-b4ad-8efa31dffdd2",
   "metadata": {},
   "source": [
    "TODO"
   ]
  },
  {
   "cell_type": "markdown",
   "id": "5d428460-b6c2-4a48-8803-89ecb2069943",
   "metadata": {},
   "source": [
    "#### Description"
   ]
  },
  {
   "cell_type": "markdown",
   "id": "7459210d-cc5f-4824-a662-09ceef24218b",
   "metadata": {},
   "source": [
    "TODO"
   ]
  },
  {
   "cell_type": "markdown",
   "id": "21be5668-252f-4884-a9ea-f624febc5718",
   "metadata": {
    "tags": []
   },
   "source": [
    "### White Hat Visualization"
   ]
  },
  {
   "cell_type": "markdown",
   "id": "6f21be6d-7882-4234-bb85-c3b5666cd084",
   "metadata": {},
   "source": [
    "**Instructions:**\n",
    "- Add your white hat visualization\n",
    "- Add a description explaining your motivation and design process in producing this visualization (**max. 150 words**)"
   ]
  },
  {
   "cell_type": "markdown",
   "id": "3253234a-d4a9-41e8-b8e4-b79310ad20b5",
   "metadata": {},
   "source": [
    "#### Visualization"
   ]
  },
  {
   "cell_type": "markdown",
   "id": "81545b22-f82f-45e7-9529-78cf8b29f2a5",
   "metadata": {},
   "source": [
    "TODO"
   ]
  },
  {
   "cell_type": "markdown",
   "id": "a52bcd9b-be23-4f3d-b4ef-0b1150206d97",
   "metadata": {},
   "source": [
    "#### Description"
   ]
  },
  {
   "cell_type": "markdown",
   "id": "aee2c591-fb05-4042-8468-2e1c1b321bed",
   "metadata": {},
   "source": [
    "TODO"
   ]
  }
 ],
 "metadata": {
  "kernelspec": {
   "display_name": "Python 3 (ipykernel)",
   "language": "python",
   "name": "python3"
  },
  "language_info": {
   "codemirror_mode": {
    "name": "ipython",
    "version": 3
   },
   "file_extension": ".py",
   "mimetype": "text/x-python",
   "name": "python",
   "nbconvert_exporter": "python",
   "pygments_lexer": "ipython3",
   "version": "3.10.6"
  }
 },
 "nbformat": 4,
 "nbformat_minor": 5
}
